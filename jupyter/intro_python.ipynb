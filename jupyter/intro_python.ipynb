{
 "cells": [
  {
   "cell_type": "markdown",
   "metadata": {},
   "source": [
    "Esta celda es ```Markdown```, y por tanto, es ignorada por el *kernel*\n",
    "\n",
    "Existen infinitos ejemplos de texto markdown, por ejemplo, en github:\n",
    "\n",
    "Por ejemplo, [este tutorial](https://github.com/luong-komorebi/Markdown-Tutorial) sobre **Markdown**, escrito en **Markdown** (readme.md)\n",
    "\n",
    "[Este notebook](https://github.com/jakevdp/PythonDataScienceHandbook/tree/master/notebooks) es un ejemplo de la potencia de Markdown (y además un buen manual)\n",
    "\n",
    "[Y este otro entorno (colab)](https://colab.research.google.com/) te permite utilizar los notebooks sin instalar nada"
   ]
  },
  {
   "cell_type": "markdown",
   "metadata": {},
   "source": [
    "### Introducción a Python\n",
    "***\n",
    "\n",
    "Nociones básicas de Python (para alumnos de fucomp giti uma)"
   ]
  },
  {
   "cell_type": "code",
   "execution_count": 1,
   "metadata": {},
   "outputs": [
    {
     "name": "stdout",
     "output_type": "stream",
     "text": [
      "Esta celda es de código\n"
     ]
    }
   ],
   "source": [
    "print(\"Esta celda es de código\") \n",
    "# Esto es un comentario en un código python\n",
    "# Las celdas de código las ejecuta un \"kernel\" python.exe al pulsar May+Intro"
   ]
  },
  {
   "cell_type": "code",
   "execution_count": 1,
   "metadata": {},
   "outputs": [
    {
     "name": "stdout",
     "output_type": "stream",
     "text": [
      "72\n"
     ]
    },
    {
     "data": {
      "text/plain": [
       "35"
      ]
     },
     "execution_count": 1,
     "metadata": {},
     "output_type": "execute_result"
    }
   ],
   "source": [
    "a=9\n",
    "print(a*8)\n",
    "a*3+8"
   ]
  },
  {
   "cell_type": "code",
   "execution_count": 2,
   "metadata": {},
   "outputs": [
    {
     "data": {
      "text/plain": [
       "12"
      ]
     },
     "execution_count": 2,
     "metadata": {},
     "output_type": "execute_result"
    }
   ],
   "source": [
    "3*4 # Uso básico como calculadora"
   ]
  },
  {
   "cell_type": "code",
   "execution_count": 3,
   "metadata": {},
   "outputs": [],
   "source": [
    "a=6 # Asignación. (No hay respuesta)"
   ]
  },
  {
   "cell_type": "code",
   "execution_count": 6,
   "metadata": {},
   "outputs": [
    {
     "name": "stdout",
     "output_type": "stream",
     "text": [
      "7\n"
     ]
    }
   ],
   "source": [
    "print(a)"
   ]
  },
  {
   "cell_type": "code",
   "execution_count": 5,
   "metadata": {},
   "outputs": [],
   "source": [
    "a=7"
   ]
  },
  {
   "cell_type": "code",
   "execution_count": 5,
   "metadata": {},
   "outputs": [
    {
     "name": "stdout",
     "output_type": "stream",
     "text": [
      "(8, 3)\n",
      "[8, 3]\n"
     ]
    }
   ],
   "source": [
    "t=(8,3) # tupla inmutable (y eficiente)\n",
    "print(t)\n",
    "l=[8,3] # lista mutable (más flexible, menos eficiente)\n",
    "print(l)"
   ]
  },
  {
   "cell_type": "code",
   "execution_count": 6,
   "metadata": {},
   "outputs": [
    {
     "data": {
      "text/plain": [
       "12"
      ]
     },
     "execution_count": 6,
     "metadata": {},
     "output_type": "execute_result"
    }
   ],
   "source": [
    "# Las variables \"sobreviven\" de una celda a otra\n",
    "a*2 # Una expresión sin asignación si aparece respuesta"
   ]
  },
  {
   "cell_type": "code",
   "execution_count": 12,
   "metadata": {},
   "outputs": [
    {
     "name": "stdout",
     "output_type": "stream",
     "text": [
      "0\n",
      "1\n",
      "2\n",
      "3\n",
      "4\n"
     ]
    }
   ],
   "source": [
    "# Los 4 espacios en python --> { } en otros lenguajes\n",
    "for i in range(5):\n",
    "    print(i)\n",
    "    \n",
    "# intenta también range(2,6) range(2,10,2) range(12,-10,-4)"
   ]
  },
  {
   "cell_type": "code",
   "execution_count": null,
   "metadata": {},
   "outputs": [],
   "source": [
    "def funcion():\n",
    "    global total\n",
    "    total = 5\n",
    "    for i in range(1000):\n",
    "        for j in range(1000):\n",
    "            total += i * (-1) ** j        \n",
    "    local=total"
   ]
  },
  {
   "cell_type": "code",
   "execution_count": null,
   "metadata": {},
   "outputs": [],
   "source": [
    "funcion()\n",
    "print(total)\n",
    "print(local)"
   ]
  },
  {
   "cell_type": "code",
   "execution_count": null,
   "metadata": {},
   "outputs": [],
   "source": [
    " %timeit funcion()"
   ]
  },
  {
   "cell_type": "markdown",
   "metadata": {},
   "source": [
    "### Instalar paquetes"
   ]
  },
  {
   "cell_type": "code",
   "execution_count": null,
   "metadata": {},
   "outputs": [],
   "source": [
    "pip install numpy"
   ]
  },
  {
   "cell_type": "markdown",
   "metadata": {},
   "source": [
    "### Numpy\n",
    "Numpy es la \"parte matemática\" de Python, que, junto a matplotlib, es la que le \"acerca\" a Matlab"
   ]
  },
  {
   "cell_type": "code",
   "execution_count": null,
   "metadata": {},
   "outputs": [],
   "source": [
    "import numpy as np # Observa cómo, además de importar la librería, \n",
    "                    #se le asigna un alias"
   ]
  },
  {
   "cell_type": "code",
   "execution_count": null,
   "metadata": {},
   "outputs": [],
   "source": [
    "numpy.binary_repr(3)"
   ]
  },
  {
   "cell_type": "code",
   "execution_count": null,
   "metadata": {},
   "outputs": [],
   "source": [
    "np.binary_repr(3)"
   ]
  },
  {
   "cell_type": "code",
   "execution_count": null,
   "metadata": {},
   "outputs": [],
   "source": [
    "# hagamos algo util para fucomp\n",
    "def bn(x,n=16):\n",
    "    return np.binary_repr(x).zfill(n)"
   ]
  },
  {
   "cell_type": "code",
   "execution_count": null,
   "metadata": {},
   "outputs": [],
   "source": [
    "bn(23,6)"
   ]
  },
  {
   "cell_type": "code",
   "execution_count": null,
   "metadata": {},
   "outputs": [],
   "source": [
    "bn(23)"
   ]
  },
  {
   "cell_type": "code",
   "execution_count": null,
   "metadata": {},
   "outputs": [],
   "source": [
    "# Más útil aún\n",
    "\n",
    "def n2(x,n=32):\n",
    "    if x >= 0:\n",
    "        return bn(x,n)\n",
    "    else:\n",
    "        compl=2**n\n",
    "        return bn(compl-abs(x),n)\n",
    "        \n",
    "    "
   ]
  },
  {
   "cell_type": "code",
   "execution_count": null,
   "metadata": {},
   "outputs": [],
   "source": [
    "n2(-23,8)"
   ]
  },
  {
   "cell_type": "code",
   "execution_count": null,
   "metadata": {},
   "outputs": [],
   "source": [
    "def n1(x,n=32):\n",
    "    if x >= 0:\n",
    "        return bn(x,n)\n",
    "    else:\n",
    "        compl=2**n-1\n",
    "        return bn(compl-abs(x),n)"
   ]
  },
  {
   "cell_type": "code",
   "execution_count": null,
   "metadata": {},
   "outputs": [],
   "source": [
    "print(n1(487,10))\n",
    "print(n1(-487,10))\n"
   ]
  },
  {
   "cell_type": "code",
   "execution_count": null,
   "metadata": {},
   "outputs": [],
   "source": [
    "def ex127(x,n=8):\n",
    "    y=x+127\n",
    "    print(y)\n",
    "    return bn(y,n)"
   ]
  },
  {
   "cell_type": "code",
   "execution_count": null,
   "metadata": {},
   "outputs": [],
   "source": [
    "ex127(4)"
   ]
  },
  {
   "cell_type": "code",
   "execution_count": null,
   "metadata": {},
   "outputs": [],
   "source": [
    "import struct\n",
    "dataf = [1234.342, 55.44257,4.375, -10, 0.0625]\n",
    "datai = [1,-5,6,7]\n",
    "\n",
    "f = open(\"c:/users/felipe/Desktop/output.bin\", \"wb\")\n",
    "\n",
    "for d in dataf:\n",
    "    f.write(struct.pack('<f',d))\n",
    "for d in datai:\n",
    "    f.write(struct.pack('>i',d))\n",
    "\n",
    "f.close()\n"
   ]
  },
  {
   "cell_type": "code",
   "execution_count": null,
   "metadata": {},
   "outputs": [],
   "source": [
    "from matplotlib import pyplot as plt"
   ]
  },
  {
   "cell_type": "code",
   "execution_count": null,
   "metadata": {},
   "outputs": [],
   "source": [
    "x = np.arange(1,11) \n",
    "y = 2 * x + 5 \n",
    "x,y"
   ]
  },
  {
   "cell_type": "code",
   "execution_count": null,
   "metadata": {},
   "outputs": [],
   "source": [
    "plt.title(\"Matplotlib demo\") \n",
    "plt.xlabel(\"x axis caption\") \n",
    "plt.ylabel(\"y axis caption\") \n",
    "plt.plot(x,y) \n",
    "plt.show()"
   ]
  },
  {
   "cell_type": "code",
   "execution_count": null,
   "metadata": {},
   "outputs": [],
   "source": [
    "a=np.random.random((4,5))"
   ]
  },
  {
   "cell_type": "code",
   "execution_count": null,
   "metadata": {},
   "outputs": [],
   "source": [
    "a"
   ]
  },
  {
   "cell_type": "code",
   "execution_count": null,
   "metadata": {},
   "outputs": [],
   "source": [
    "plt.imshow(a)"
   ]
  },
  {
   "cell_type": "markdown",
   "metadata": {},
   "source": [
    "En Python, el tipo de una variable es dinámico:\n"
   ]
  },
  {
   "cell_type": "code",
   "execution_count": null,
   "metadata": {},
   "outputs": [],
   "source": [
    "x=5\n",
    "print(type(x))\n",
    "x='cadena'\n",
    "print(type(x))"
   ]
  },
  {
   "cell_type": "markdown",
   "metadata": {},
   "source": [
    "Efectivamente, no es tan simple como en C, en el que un entero es inmutable, y además son sólo 4 bytes. De hecho, si observamos el código fuente de python (en C) \n",
    "descubrimos que un entero es todo esto:\n",
    "```C\n",
    "typedef struct _longobject {\n",
    "long ob_refcnt;\n",
    "PyTypeObject *ob_type;\n",
    "size_t ob_size;\n",
    "long ob_digit[1];\n",
    "};\n",
    "```\n"
   ]
  },
  {
   "cell_type": "markdown",
   "metadata": {},
   "source": [
    "Antes de continuar con numpy, hablemos de *las clases* (que no son más que una ampliación de las estructuras de C, es decir, un nuevo tipo constituido por tipos más básicos, al que se le añaden \"métodos\" que normalmente operan sobre las variables."
   ]
  },
  {
   "cell_type": "code",
   "execution_count": null,
   "metadata": {},
   "outputs": [],
   "source": [
    "class Alumno:\n",
    "    edad = 8\n",
    "    dni ='2345678C'\n",
    "    nombre=''\n",
    "    def __init__(self, nombre):\n",
    "        self.nombre = nombre\n",
    "\n",
    "    def saludar(self):\n",
    "        \"\"\"Imprime un saludo en pantalla.\"\"\"\n",
    "        print(f\"¡Hola, {self.nombre}!\")\n"
   ]
  },
  {
   "cell_type": "code",
   "execution_count": null,
   "metadata": {},
   "outputs": [],
   "source": [
    "alumno1 = Alumno(\"Pablo\")\n",
    "alumno2 = Alumno(\"Juan\")\n",
    "alumno2.saludar()\n"
   ]
  },
  {
   "cell_type": "code",
   "execution_count": null,
   "metadata": {},
   "outputs": [],
   "source": [
    "alumno2.edad=8"
   ]
  },
  {
   "cell_type": "markdown",
   "metadata": {},
   "source": [
    "En la sentencia C \n",
    "```C \n",
    "int a = 8;\n",
    "```  \n",
    "*int* es el tipo, **a** la variable, y ***8*** el valor de la variable. "
   ]
  },
  {
   "cell_type": "markdown",
   "metadata": {},
   "source": [
    "Siguiendo esta analogía, en el siguiente bloque,\n",
    "*Rectangulo* es la clase, **rectangulo** es el objeto, y su valor es el conjunto de enteros ***20, 10***"
   ]
  },
  {
   "cell_type": "code",
   "execution_count": null,
   "metadata": {},
   "outputs": [],
   "source": [
    "class Rectangulo:\n",
    "    \"\"\"\n",
    "    Define un rectángulo según su base y su altura.\n",
    "    \"\"\"\n",
    "    def __init__(self, b, h):\n",
    "        self.b = b\n",
    "        self.h = h\n",
    "\n",
    "    def area(self):\n",
    "        return self.b * self.h\n",
    "\n",
    "rectangulo1 = Rectangulo(20, 10)\n",
    "print(\"Área del rectángulo: \", rectangulo1.area())"
   ]
  },
  {
   "cell_type": "code",
   "execution_count": null,
   "metadata": {},
   "outputs": [],
   "source": [
    "# Otro ejemplo\n",
    "\n",
    "import math\n",
    "\n",
    "class Point(object):\n",
    "    \"\"\"A 2D point in the cartesian plane\"\"\"\n",
    "\n",
    "    def __init__(self, x, y):\n",
    "        self.x = x\n",
    "        self.y = y\n",
    "\n",
    "    def __repr__(self):\n",
    "        return 'Point({}, {})'.format(self.x, self.y)\n",
    "\n",
    "    def dist_to_point(self, Point):\n",
    "        dist = math.sqrt((self.x - Point.x)**2 + (self.y - Point.y)**2)\n",
    "        return dist\n",
    "\n",
    "p1 = Point(4,9)\n",
    "p2 = Point(10,5)\n",
    "print(p1.dist_to_point(p2))"
   ]
  },
  {
   "cell_type": "markdown",
   "metadata": {},
   "source": [
    "El método ```__init__``` es el que se ejecuta al crear el objeto (la \"instancia de la clase\"), y en éste método, habitualmente denominado \"constructor\", se suelen inicializar las variables del objeto."
   ]
  },
  {
   "cell_type": "markdown",
   "metadata": {},
   "source": [
    "### Listas de Python vs Array de numpy"
   ]
  },
  {
   "cell_type": "code",
   "execution_count": null,
   "metadata": {},
   "outputs": [],
   "source": [
    "L = list(range(10))\n",
    "L"
   ]
  },
  {
   "cell_type": "code",
   "execution_count": null,
   "metadata": {},
   "outputs": [],
   "source": [
    "L[3]='hola'\n",
    "L"
   ]
  },
  {
   "cell_type": "code",
   "execution_count": null,
   "metadata": {},
   "outputs": [],
   "source": [
    "#esto no es posible con los arrays de numpy\n",
    "npa= np.array([1, 4, 2, 5, 3])\n",
    "npa"
   ]
  },
  {
   "cell_type": "code",
   "execution_count": null,
   "metadata": {},
   "outputs": [],
   "source": [
    "npa[3]='hola'"
   ]
  },
  {
   "cell_type": "code",
   "execution_count": null,
   "metadata": {},
   "outputs": [],
   "source": [
    "npa[3]=8 #ok\n",
    "print(npa)\n",
    "npa = np.arange(1,11)  #otra forma de inicializarlo\n",
    "print(npa)\n"
   ]
  },
  {
   "cell_type": "code",
   "execution_count": null,
   "metadata": {},
   "outputs": [],
   "source": [
    "np.zeros(10, dtype=float)"
   ]
  },
  {
   "cell_type": "code",
   "execution_count": null,
   "metadata": {},
   "outputs": [],
   "source": [
    "np.ones((7, 5), dtype=int)"
   ]
  },
  {
   "cell_type": "code",
   "execution_count": null,
   "metadata": {},
   "outputs": [],
   "source": [
    "np.full((3, 5), np.pi)"
   ]
  },
  {
   "cell_type": "markdown",
   "metadata": {},
   "source": [
    "Numpy es un paquete Python orientado a las operaciones sobre arrays (como matlab)"
   ]
  },
  {
   "cell_type": "code",
   "execution_count": null,
   "metadata": {},
   "outputs": [],
   "source": [
    "x = [-1, 0, 1]\n",
    "print(\"x = \", x)\n",
    "print(\"arcsin(x) = \", np.arcsin(x))\n",
    "print(\"arccos(x) = \", np.arccos(x))\n",
    "print(\"arctan(x) = \", np.arctan(x))\n"
   ]
  },
  {
   "cell_type": "code",
   "execution_count": null,
   "metadata": {},
   "outputs": [],
   "source": [
    "fig = plt.figure()\n",
    "ax = plt.axes(projection=\"3d\")\n",
    "def z_function(x, y):\n",
    "    return np.sin(np.sqrt(x ** 2 + y ** 2))\n",
    "\n",
    "x = np.linspace(-6, 6, 30)\n",
    "y = np.linspace(-6, 6, 30)\n",
    "X, Y = np.meshgrid(x, y)\n",
    "Z = z_function(X, Y)"
   ]
  },
  {
   "cell_type": "code",
   "execution_count": null,
   "metadata": {},
   "outputs": [],
   "source": [
    "fig = plt.figure()\n",
    "ax = plt.axes(projection=\"3d\")\n",
    "ax.plot_wireframe(X, Y, Z, color='green')\n",
    "ax.set_xlabel('x')\n",
    "ax.set_ylabel('y')\n",
    "ax.set_zlabel('z')\n",
    "\n",
    "plt.show()"
   ]
  },
  {
   "cell_type": "code",
   "execution_count": null,
   "metadata": {},
   "outputs": [],
   "source": [
    "import matplotlib.pyplot as plt\n",
    "\n",
    "\n",
    "\n",
    "labels = ('Teoría','practica')\n",
    "sizes = (70,30)\n",
    "explode = (0.07, 0.07)  # \"explode\" all the slices\n",
    "colores = ((0,0.5,0.7),(1,0.5,0.3))\n",
    "\n",
    "\n",
    "labels = ('Tema 2','Tema 3','Tema 4','Tema 6','Tema 5','Practica 5','Prácticas 1-4' )\n",
    "sizes = (15,15,15,15,10,10,20)\n",
    "explode = (0.07, 0.07, 0.07, 0.07, 0.07, 0.17, 0.17)  # \"explode\" all the slices\n",
    "colores = ((0,0.5,0.7),(0,0.5,0.7),(0,0.5,0.7),(0,0.5,0.7),(0,0.5,0.7),(1,0.5,0.3),(1,0.5,0.3))\n",
    "#Julio\n",
    "explode = (0.07, 0.07, 0.07, 0.07, 0.17, 0.17, 0.07)  # \"explode\" all the slices\n",
    "colores = ((0,0.5,0.7,0.1),(0,0.5,0.7,0.1),(0,0.5,0.7,0.1),(0,0.5,0.7,0.1),(0,0.5,0.7),(1,0.5,0.3),(1,0.5,0.3,0.1))\n",
    "#final\n",
    "explode = (0.07, 0.27, 0.07, 0.27, 0.27, 0.07, 0.07)  # \"explode\" all the slices\n",
    "colores = ((0,0.5,0.7,0.1),(0,0.5,0.7,1),(0,0.5,0.7,0.1),(0,0.5,0.7,1),(0,0.5,0.7,1),(1,0.5,0.3,1),(1,0.5,0.3,1))\n",
    "\n",
    "# Detalles practicas\n",
    "labels = ('Teoría','Practica 5','Test prácticas','Practica 4','Practica 3','Práctica 2','Práctica 1' )\n",
    "sizes = (70,10,5,3.75,3.75,3.75,3.75)\n",
    "explode = (0.07, 0.07,0.07, 0.07, 0.07, 0.07, 0.07)  # \"explode\" all the slices\n",
    "colores = ((0,0.5,0.7),(1,0.5,0.3),(1,0.5,0.3),(1,0.5,0.3),(1,0.5,0.3),(1,0.5,0.3),(1,0.5,0.3))\n",
    "\n",
    "\n",
    "\n",
    "\n",
    "fig2, ax2 = plt.subplots()\n",
    "ax2.pie(sizes, explode=explode, labels=labels, autopct='%1.2f%%', shadow=True, startangle=80, pctdistance=0.85, colors=colores) # Adjust font location\n",
    "\n",
    "#draw circle and convert pie chart to Donut Chart\n",
    "centre_circle = plt.Circle((0,0),0.70,fc=(1,1,1,0.8))\n",
    "fig2 = plt.gcf()\n",
    "fig2.gca().add_artist(centre_circle)\n",
    "\n",
    "# Equal aspect ratio ensures that pie is drawn as a circle\n",
    "ax2.axis('equal')  \n",
    "plt.tight_layout()\n",
    "plt.savefig('d:/5.png')\n",
    "plt.show()\n"
   ]
  },
  {
   "cell_type": "markdown",
   "metadata": {},
   "source": [
    "#\n",
    "\n",
    "## Codificación IEEE 754"
   ]
  },
  {
   "cell_type": "code",
   "execution_count": null,
   "metadata": {},
   "outputs": [],
   "source": [
    "import numpy as np\n",
    "\n",
    "a=-112\n",
    "signo='1' if a<0 else '0'\n",
    "print(signo)\n",
    "abs_a = -a if a<0 else a"
   ]
  },
  {
   "cell_type": "code",
   "execution_count": null,
   "metadata": {},
   "outputs": [],
   "source": [
    "# Exponente\n",
    "bin_abs_a= np.binary_repr(abs_a)\n",
    "expo1=len(bin_abs_a)-1\n",
    "bin_expo=np.binary_repr(expo1+127)\n",
    "expo=bin_expo.zfill(8)\n",
    "expo"
   ]
  },
  {
   "cell_type": "code",
   "execution_count": null,
   "metadata": {},
   "outputs": [],
   "source": [
    "mantisa1=bin_abs_a[1:]\n",
    "mantisa=mantisa1.ljust(23,'0')\n",
    "resul= signo+' '+expo+' '+mantisa"
   ]
  },
  {
   "cell_type": "code",
   "execution_count": null,
   "metadata": {},
   "outputs": [],
   "source": [
    "# Compara el resultado usando herramientas típicas: pack/unpack\n",
    "import struct\n",
    "def float_to_bin(num):\n",
    "    bits, = struct.unpack('!I', struct.pack('!f', num))\n",
    "    return \"{:032b}\".format(bits)\n",
    "\n",
    "x=float_to_bin(a)\n",
    "print(x[0:1]+' '+x[1:9]+' '+x[9:32])\n",
    "print(resul)"
   ]
  },
  {
   "cell_type": "code",
   "execution_count": null,
   "metadata": {},
   "outputs": [],
   "source": [
    "dni=\"25094239C\"\n",
    "int(dni[0:8])%8\n",
    "\n",
    "a=-112\n",
    "\n",
    "signo='1' if a<0 else '0'\n",
    "\n",
    "abs_a = -a if a<0 else a\n",
    "\n",
    "bin_abs_a= np.binary_repr(abs_a)\n",
    "\n",
    "\n",
    "expo1=len(bin_abs_a)-1\n",
    "bin_abs_a= np.binary_repr(abs_a)\n",
    "\n",
    "bin_expo=np.binary_repr(expo1+127)\n",
    "expo=bin_expo.zfill(8)\n",
    "\n",
    "mantisa1=bin_abs_a[1:]\n",
    "\n",
    "mantisa=mantisa1.ljust(23,'0')\n",
    "\n",
    "resul= signo+' '+expo+' '+mantisa\n",
    "resul\n",
    "\n"
   ]
  },
  {
   "cell_type": "markdown",
   "metadata": {},
   "source": [
    "# Varios\n",
    "## Descarga de datos de internet"
   ]
  },
  {
   "cell_type": "code",
   "execution_count": null,
   "metadata": {},
   "outputs": [],
   "source": [
    "import http.client\n",
    "import os\n",
    "conn = http.client.HTTPSConnection(\"opendata.aemet.es\")\n",
    "\n",
    "headers = {\n",
    "    'cache-control': \"no-cache\"\n",
    "    }\n",
    "\n",
    "key = os.getenv('opendata_aemet')\n",
    "conn.request(\"GET\", \"/opendata/api/valores/climatologicos/inventarioestaciones/todasestaciones/?api_key=\"+key, headers=headers)\n",
    "\n",
    "res = conn.getresponse()\n",
    "data = res.read()\n",
    "\n",
    "print(data.decode(\"utf-8\"))\n"
   ]
  },
  {
   "cell_type": "markdown",
   "metadata": {},
   "source": [
    "## Acceso al shell"
   ]
  },
  {
   "cell_type": "code",
   "execution_count": null,
   "metadata": {},
   "outputs": [],
   "source": [
    "!mkdir pepe\n",
    "!dir\n",
    "!cd d:/proyectos/notebooks/pepe # Abre shell ejecuta y termina shell\n",
    "!echo %cd%\n",
    "%cd d:/proyectos/notebooks/pepe\n",
    "!echo %cd%"
   ]
  },
  {
   "cell_type": "markdown",
   "metadata": {},
   "source": [
    "## Manejo de excepciones"
   ]
  },
  {
   "cell_type": "code",
   "execution_count": null,
   "metadata": {},
   "outputs": [],
   "source": [
    "a=8\n",
    "b=a/0"
   ]
  },
  {
   "cell_type": "code",
   "execution_count": null,
   "metadata": {},
   "outputs": [],
   "source": [
    "try:\n",
    "    a=8\n",
    "    b=5\n",
    "    d=7\n",
    "    b=a*b*d/0\n",
    "    d=8\n",
    "except:\n",
    "    b=a/0.00001\n",
    "b=d"
   ]
  }
 ],
 "metadata": {
  "kernelspec": {
   "display_name": "Python 3",
   "language": "python",
   "name": "python3"
  },
  "language_info": {
   "codemirror_mode": {
    "name": "ipython",
    "version": 3
   },
   "file_extension": ".py",
   "mimetype": "text/x-python",
   "name": "python",
   "nbconvert_exporter": "python",
   "pygments_lexer": "ipython3",
   "version": "3.12.6"
  }
 },
 "nbformat": 4,
 "nbformat_minor": 4
}
