{
 "cells": [
  {
   "cell_type": "markdown",
   "id": "4e8e3ffc",
   "metadata": {},
   "source": [
    "# Representación Binaria Natural\n",
    "\n",
    "### Explicación y Ejemplo en Python\n",
    "\n",
    "La representación binaria natural es un sistema numérico que utiliza solo los dígitos binarios 0 y 1 para representar números. Cada posición en el número binario representa una potencia de 2. A continuación, se proporciona una explicación detallada junto con un ejemplo en Python.\n",
    "\n",
    "## ¿Qué es la Representación Binaria Natural?\n",
    "\n",
    "La representación binaria natural es una forma de expresar números en el sistema binario, donde cada dígito representa una potencia de 2. Esta representación es fundamental en la computación y las operaciones lógicas, ya que se alinea con la naturaleza binaria de los sistemas electrónicos.\n",
    "\n",
    "Por ejemplo, el número binario \\(1011\\) se desglosa de la siguiente manera:\n",
    "\n",
    "$$\n",
    "1 \\cdot 2^3 + 0 \\cdot 2^2 + 1 \\cdot 2^1 + 1 \\cdot 2^0 = 8 + 0 + 2 + 1 = 11\n",
    "$$\n",
    "## Ejemplo Detallado en Python\n",
    "\n",
    "Vamos a crear un programa en Python que convierte un número decimal a su representación binaria natural de manera más detallada.\n",
    "\n",
    "En primer lugar, creamos la función: \n",
    "(Observa el formato de tabulación característico de python, así como la ausencia de puntos y comas)\n",
    "\n",
    "```python\n",
    "def decimal_a_binario_detallado(n):\n",
    "    if n == 0:\n",
    "        return '0 (representación binaria natural)'\n",
    "```\n",
    "Utilizaremos dos arrays:\n",
    "* *bits* representa la cadena binaria, \n",
    "* *potencias* es el texto que aparecerá a la derecha de la igualdad\n",
    "\n",
    "```python\n",
    "    bits = []\n",
    "    potencias = []\n",
    "```\n",
    "\n",
    "El bucle se repite hasta completar el número de bits necesarios:\n",
    "\n",
    "```python\n",
    "    while n:\n",
    "        residuo = n % 2\n",
    "        bits.append(str(residuo))\n",
    "        potencia = len(bits) - 1\n",
    "        potencias.append(f\"{residuo}·2^{potencia}\")\n",
    "        n //= 2\n",
    "```\n",
    "\n",
    "Finalmente convertimos los arrays en secuencias (join) y juntamos todo el texto:\n",
    "\n",
    "```python\n",
    "    representacion_binaria = ' + '.join(potencias[::-1])\n",
    "    return f\"{'+'.join(bits[::-1])} = {representacion_binaria}\"\n",
    "```\n",
    "\n"
   ]
  },
  {
   "cell_type": "code",
   "execution_count": 12,
   "id": "882ce01c",
   "metadata": {},
   "outputs": [],
   "source": [
    "def decimal_a_binario_detallado(n):\n",
    "    if n == 0:\n",
    "        return '0 (representación binaria natural)'\n",
    "    \n",
    "    bits = []\n",
    "    potencias = []\n",
    "    \n",
    "    while n:\n",
    "        residuo = n % 2\n",
    "        bits.append(str(residuo))\n",
    "        potencia = len(bits) - 1\n",
    "        potencias.append(f\"{residuo}·2^{potencia}\")\n",
    "        n //= 2\n",
    "    \n",
    "    representacion_binaria = ' + '.join(potencias[::-1])\n",
    "    return f\"{'+'.join(bits[::-1])} = {representacion_binaria}\"\n",
    "\n"
   ]
  },
  {
   "cell_type": "markdown",
   "id": "441ebf89",
   "metadata": {},
   "source": [
    "\n",
    "## Ejemplo de uso\n"
   ]
  },
  {
   "cell_type": "code",
   "execution_count": 13,
   "id": "c5cca829",
   "metadata": {},
   "outputs": [
    {
     "name": "stdout",
     "output_type": "stream",
     "text": [
      "El número decimal 23 en binario natural es: 1+0+1+1+1 = 1·2^4 + 0·2^3 + 1·2^2 + 1·2^1 + 1·2^0\n"
     ]
    }
   ],
   "source": [
    "numero_decimal = 23\n",
    "representacion_detallada = decimal_a_binario_detallado(numero_decimal)\n",
    "\n",
    "print(f\"El número decimal {numero_decimal} en binario natural es: {representacion_detallada}\")\n"
   ]
  },
  {
   "cell_type": "markdown",
   "id": "e40d474e",
   "metadata": {},
   "source": [
    "# Representación de N en complemento a 2\n",
    "\n",
    "Recuerda: Se debería representación de N en **complemento a 2<sup>n</sup>**"
   ]
  },
  {
   "cell_type": "code",
   "execution_count": 35,
   "id": "24b14bb8",
   "metadata": {},
   "outputs": [
    {
     "name": "stdout",
     "output_type": "stream",
     "text": [
      "La respuesta es 11111111, porque es positivo y hemos representado 255: 256 - abs(-1), en binario natural\n"
     ]
    }
   ],
   "source": [
    "N = -1\n",
    "n = 8\n",
    "if N >= 0:\n",
    "        respuesta = bin(N)[2:].zfill(n)\n",
    "        print(\"La respuesta es \"+ respuesta+ \", porque es positivo y hemos representado N en binario natural\")\n",
    "else:\n",
    "        dosn=2 ** n\n",
    "        respuesta = bin(dosn + N)[2:]  # -abs(N) aquí lo expresamos como +N\n",
    "        print(\"La respuesta es \"+ respuesta+ \", porque es positivo y hemos representado \"+str(2 ** n + N)+f\": {dosn} - abs({N}), en binario natural\")\n"
   ]
  },
  {
   "cell_type": "markdown",
   "id": "05eeba0c",
   "metadata": {},
   "source": [
    "# Representación en complemento a 1\n",
    "\n",
    "Veamos a continuación la representación de N en **complemento a 2<sup>n</sup> - 1** (y que en lo sucesivo, llamaremos complemento a 1, ya veremos por qué)"
   ]
  },
  {
   "cell_type": "code",
   "execution_count": 1,
   "id": "50e067d5",
   "metadata": {},
   "outputs": [
    {
     "name": "stdout",
     "output_type": "stream",
     "text": [
      "La respuesta es 11111011, porque es positivo y hemos representado 251: 255 - abs(-4), en binario natural\n"
     ]
    }
   ],
   "source": [
    "N = -4\n",
    "n = 8\n",
    "if N >= 0:\n",
    "        respuesta = bin(N)[2:].zfill(n)\n",
    "        print(\"La respuesta es \"+ respuesta+ \", porque es positivo y hemos representado N en binario natural\")\n",
    "else:\n",
    "        dosn1=2 ** n-1\n",
    "        respuesta = bin(dosn1 + N)[2:]  # -abs(N) aquí lo expresamos como +N\n",
    "        print(\"La respuesta es \"+ respuesta+ \", porque es positivo y hemos representado \"+str((2 ** n-1) + N)+f\": {dosn1} - abs({N}), en binario natural\")\n",
    "\n"
   ]
  },
  {
   "cell_type": "markdown",
   "id": "51688aa1",
   "metadata": {},
   "source": [
    "Ejemplo de código en c++:\n",
    "\n",
    "```c\n",
    "#include <iostream>\n",
    "#include <cmath>\n",
    "\n",
    "int main() {\n",
    "    int n = 7;\n",
    "\n",
    "    // División entera en C++\n",
    "    n /= 2;\n",
    "    std::cout << n << std::endl;  // Salida: 3\n",
    "\n",
    "    // En comparación con\n",
    "    n = 7;\n",
    "    n = std::floor(n / 2.0);\n",
    "    std::cout << n << std::endl;  // Salida: 3\n",
    "\n",
    "    return 0;\n",
    "}\n",
    "\n",
    "\n",
    "\n",
    "\n",
    "\n",
    "\n",
    "\n",
    "\n",
    "\n",
    "\n",
    "\n",
    "\n",
    "\n",
    "\n",
    "\n",
    "\n",
    "\n",
    "\n",
    "\n",
    "\n",
    "\n",
    "\n",
    "\n",
    "\n",
    "\n",
    "\n",
    "\n",
    "```\n",
    "\n",
    "\n",
    "\n",
    "\n",
    "\n",
    "\n",
    "\n",
    "\n",
    "\n",
    "\n",
    "\n",
    "\n",
    "\n",
    "\n",
    "\n",
    "\n",
    "\n",
    "\n",
    "\n",
    "\n",
    "\n",
    "\n",
    "\n"
   ]
  },
  {
   "cell_type": "code",
   "execution_count": 4,
   "id": "16ddda44-ef17-4d85-8b66-e4253180756d",
   "metadata": {},
   "outputs": [],
   "source": [
    "import struct\n",
    "\n",
    "# Paso a) y b)\n",
    "dni = 25094239\n",
    "num0 = dni % 16\n",
    "num1 = dni % 256\n",
    "\n",
    "# Paso c)\n",
    "bin_num0 = format(num0, '04b')\n",
    "E, C, O, S = int(bin_num0[0]), int(bin_num0[1]), int(bin_num0[2]), int(bin_num0[3])\n",
    "\n"
   ]
  },
  {
   "cell_type": "code",
   "execution_count": 5,
   "id": "94803b8a-1466-4327-854a-425ab0b7d88a",
   "metadata": {},
   "outputs": [
    {
     "name": "stdout",
     "output_type": "stream",
     "text": [
      "Endianess: big endian\n",
      "Complemento: complemento a 1\n",
      "Opuesto: opuesto de ese número\n",
      "Sustantivo: vegetal\n"
     ]
    }
   ],
   "source": [
    "# Paso d)\n",
    "if E == 0:\n",
    "    endianess = 'little endian'\n",
    "else:\n",
    "    endianess = 'big endian'\n",
    "\n",
    "if C == 0:\n",
    "    complemento = 'complemento a 2'\n",
    "else:\n",
    "    complemento = 'complemento a 1'\n",
    "\n",
    "if O == 0:\n",
    "    opuesto = 'mismo número'\n",
    "else:\n",
    "    opuesto = 'opuesto de ese número'\n",
    "\n",
    "if S == 0:\n",
    "    sustantivo = 'animal'\n",
    "else:\n",
    "    sustantivo = 'vegetal'\n",
    "\n",
    "print(f'Endianess: {endianess}')\n",
    "print(f'Complemento: {complemento}')\n",
    "print(f'Opuesto: {opuesto}')\n",
    "print(f'Sustantivo: {sustantivo}')"
   ]
  },
  {
   "cell_type": "code",
   "execution_count": null,
   "id": "d73588d2-0320-479f-9e3a-1ae91d061498",
   "metadata": {},
   "outputs": [],
   "source": []
  },
  {
   "cell_type": "code",
   "execution_count": null,
   "id": "19e6b594-11d3-4d65-a6c5-efde67a627c6",
   "metadata": {},
   "outputs": [],
   "source": []
  },
  {
   "cell_type": "code",
   "execution_count": null,
   "id": "e5e50d88-7dcd-45b0-909f-7dcbee1b73e2",
   "metadata": {},
   "outputs": [],
   "source": [
    "\n",
    "\n",
    "# Ejercicio 1\n",
    "num0_neg = num0 if O == 0 else -num0\n",
    "\n",
    "# Ejercicio 2\n",
    "num1_neg = struct.unpack('f', struct.pack('f', num1))[0] if O == 0 else -struct.unpack('f', struct.pack('f', num1))[0]\n",
    "\n",
    "# Ejercicio 3\n",
    "num1_binary = format(num1, '08b')\n",
    "num1_signed = int(num1_binary, 2) if C == 0 else -int(num1_binary, 2)\n",
    "\n",
    "# Ejercicio 4\n",
    "memory = bytearray(64 * 1024)  # 64K memory\n",
    "memory[0:2] = struct.pack('>' + ('h' if endianess == 'big endian' else 'H'), num0_neg)\n",
    "memory[2:6] = struct.pack('>' + ('f' if endianess == 'big endian' else 'f'), num1_neg)\n",
    "\n",
    "# ASCII codes for a 6/7 character string\n",
    "ascii_codes = [ord(char) for char in 'PythonG']\n",
    "memory[6:13] = bytes(ascii_codes)\n",
    "\n",
    "# Ejercicio 5\n",
    "hex_memory = ', '.join([format(byte, '02X') for byte in memory])\n",
    "with open('memory_dump.txt', 'w') as file:\n",
    "    file.write(hex_memory)\n",
    "\n",
    "print(f'\\nMemory Dump:\\n{hex_memory}')\n"
   ]
  }
 ],
 "metadata": {
  "kernelspec": {
   "display_name": "Python 3",
   "language": "python",
   "name": "python3"
  },
  "language_info": {
   "codemirror_mode": {
    "name": "ipython",
    "version": 3
   },
   "file_extension": ".py",
   "mimetype": "text/x-python",
   "name": "python",
   "nbconvert_exporter": "python",
   "pygments_lexer": "ipython3",
   "version": "3.12.6"
  }
 },
 "nbformat": 4,
 "nbformat_minor": 5
}
